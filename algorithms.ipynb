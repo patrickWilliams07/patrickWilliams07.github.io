{
 "cells": [
  {
   "cell_type": "markdown",
   "metadata": {},
   "source": [
    "# Searching and Sorting Algorithms\n",
    "This contains a lot of the algorithms from module 12 written in python  \n",
    "This will be expanded later to include different approaches to each\n",
    "## Searching Algorithms"
   ]
  },
  {
   "cell_type": "markdown",
   "metadata": {},
   "source": [
    "### Linear Search:"
   ]
  },
  {
   "cell_type": "code",
   "execution_count": 16,
   "metadata": {},
   "outputs": [],
   "source": [
    "def linear_search(array: list, target) -> int:  # O(n)\n",
    "    # array is the list of items, target is what is being searched for\n",
    "\n",
    "    for i in range(len(array)):   # Iterates through each item\n",
    "        if array[i] == target:    # Check if current item is target\n",
    "            return i              # Returns position of target\n",
    "    return -1                     # Otherwise not found"
   ]
  },
  {
   "cell_type": "code",
   "execution_count": 17,
   "metadata": {},
   "outputs": [
    {
     "name": "stdout",
     "output_type": "stream",
     "text": [
      "3\n"
     ]
    }
   ],
   "source": [
    "myArray = [23, 64, 86, 12, 64, 96, 23, 78, 10]  # unsorted list\n",
    "result = linear_search(myArray, 12)\n",
    "print(result)"
   ]
  },
  {
   "cell_type": "markdown",
   "metadata": {},
   "source": [
    "### Binary Search:"
   ]
  },
  {
   "cell_type": "code",
   "execution_count": 24,
   "metadata": {},
   "outputs": [],
   "source": [
    "def binary_search(array: list, target, left: int, right: int) -> int:    # O(log n)\n",
    "    # start and end are pointers for the current section of list\n",
    "    # on the first call, left will be 0 and right will be the length -1\n",
    "    # every time the list is \"cut\" in half, these are changed\n",
    "\n",
    "    if left > right:                 # if the left pointer is more than the right\n",
    "        return -1                    # this means that the item has not been found\n",
    "    \n",
    "    midpoint = (left + right) // 2   # this is the index of the middle item in the current list\n",
    "\n",
    "    if target > array[midpoint]:\n",
    "        # if the target is more than the middle item then we need the right side of the array\n",
    "        # change the left pointer to now be one more than the midpoint\n",
    "        # therefore the new section of the list will be the right hand side\n",
    "        return binary_search(array, target, midpoint + 1, right)\n",
    "    \n",
    "    if target < array[midpoint]:\n",
    "        # if the target is less than the middle item then we need left side of the array\n",
    "        # change the right pointer to now be one less than the midpoint\n",
    "        # therefore the new section of the list is the left hand side\n",
    "        return binary_search(array, target, left, midpoint - 1)\n",
    "    \n",
    "    return midpoint     # otherwise they must be equal, return the position which is midpoint"
   ]
  },
  {
   "cell_type": "code",
   "execution_count": 25,
   "metadata": {},
   "outputs": [
    {
     "name": "stdout",
     "output_type": "stream",
     "text": [
      "5\n"
     ]
    }
   ],
   "source": [
    "myarrayay = [\"A\", \"B\", \"C\", \"D\", \"E\", \"F\", \"G\"]                 # sorted array\n",
    "result = binary_search(myarrayay, \"F\", 0, len(myarrayay) - 1)   # sets left to 0 and right to the last item's index\n",
    "print(result)"
   ]
  },
  {
   "cell_type": "markdown",
   "metadata": {},
   "source": [
    "## Sorting Algorithms"
   ]
  },
  {
   "cell_type": "markdown",
   "metadata": {},
   "source": [
    "### Bubble Sort:"
   ]
  },
  {
   "cell_type": "code",
   "execution_count": 20,
   "metadata": {},
   "outputs": [],
   "source": [
    "def bubble_sort(array: list) -> None:   # O(n^2)\n",
    "\n",
    "    for i in range(len(array) - 1):\n",
    "        # outer loop represents each pass through the entire list\n",
    "        # pass for each item except the last as it will already be sorted\n",
    "        # in pseudocode it is array.length - 2\n",
    "\n",
    "        for j in range(len(array) - i - 1):\n",
    "            # inner loop represents each item in a pass\n",
    "            # on each outer loop one more of the last items is sorted\n",
    "            # therefore the inner loop does not pass through the later items as already sorted\n",
    "            # in pseudocode it is array.length - i - 2\n",
    "\n",
    "            if array[j] > array[j+1]:   # if the items need to swap\n",
    "                temp = array[j]         # using a temporary variable\n",
    "                array[j] = array[j+1]\n",
    "                array[j+1] = temp\n",
    "    \n",
    "    # return statement is optional if identifier is passed into function"
   ]
  },
  {
   "cell_type": "code",
   "execution_count": 21,
   "metadata": {},
   "outputs": [
    {
     "name": "stdout",
     "output_type": "stream",
     "text": [
      "[1, 1, 2, 3, 3, 4, 5, 5, 5, 6, 9]\n"
     ]
    }
   ],
   "source": [
    "myArray = [3, 1, 4, 1, 5, 9, 2, 6, 5, 3, 5]\n",
    "bubble_sort(myArray)\n",
    "print(myArray)"
   ]
  },
  {
   "cell_type": "markdown",
   "metadata": {},
   "source": [
    "### Insertion Sort:"
   ]
  },
  {
   "cell_type": "code",
   "execution_count": 22,
   "metadata": {},
   "outputs": [],
   "source": [
    "def insertion_sort(array: list) -> None:    # O(n^2)\n",
    "    for i in range(1, len(array)):\n",
    "        # i represents the section of the list that is already sorted\n",
    "        # this starts as 1 because the first item is in order\n",
    "        # as more items are sorted this left portion expands\n",
    "        # therefore i points to the next unsorted item\n",
    "        # continues to increase until entire list has been sorted\n",
    "\n",
    "        currentItem = array[i]    # next unsorted item\n",
    "        j = i - 1                 # new pointer to sort this item\n",
    "\n",
    "        while currentItem < array[j] and j >= 0:\n",
    "            # goes through sorted section until the correct position is found\n",
    "            # ensures that j does not decrease below 0\n",
    "            # if it does then the item should be at the start of the sorted section\n",
    "\n",
    "            array[j+1] = array[j]   # moves any larger items upwards\n",
    "            j -= 1                  # decreases the pointer for next iteration\n",
    "        \n",
    "        array[j+1] = currentItem    # puts the item in its correct position"
   ]
  },
  {
   "cell_type": "code",
   "execution_count": 23,
   "metadata": {},
   "outputs": [
    {
     "name": "stdout",
     "output_type": "stream",
     "text": [
      "['E', 'M', 'P', 'T', 'Y']\n"
     ]
    }
   ],
   "source": [
    "myArray = [\"M\", \"P\", \"E\", \"Y\", \"T\"]\n",
    "insertion_sort(myArray)\n",
    "print(myArray)"
   ]
  },
  {
   "cell_type": "markdown",
   "metadata": {},
   "source": [
    "### Merge Sort:\n",
    "#### Basic version:\n",
    "This uses python splicing instead of pointers, so is language specific  \n",
    "This is a less memory efficient implementation due to creating lots of new lists  \n",
    "However it still has all of the core features and should be okay for an exam"
   ]
  },
  {
   "cell_type": "code",
   "execution_count": 28,
   "metadata": {},
   "outputs": [],
   "source": [
    "def basic_merge_sort(array: list) -> None:    # O(n log n)\n",
    "\n",
    "    if len(array) <= 1:             # if the current list is one item long\n",
    "        return                      # already sorted so return it\n",
    "    \n",
    "    midpoint = len(array) // 2      # finds the centre point of the two lists\n",
    "    leftSide = array[: midpoint]    # splices to create a list of the left side\n",
    "    rightSide = array[midpoint :]   # and another for the right side\n",
    "\n",
    "    basic_merge_sort(leftSide)            # recurisively calls algorithm on both sides\n",
    "    basic_merge_sort(rightSide)           # this means that both sides are now sorted\n",
    "\n",
    "    i = 0    # current index of the left side\n",
    "    j = 0    # current index of the right side\n",
    "    k = 0    # current index of the main array\n",
    "\n",
    "    while i < len(leftSide) and j < len(rightSide):\n",
    "        # comparing each of the respective pointers to their sublist\n",
    "        # therefore this loop iterates until an entire sublist has been passed through\n",
    "\n",
    "        if leftSide[i] < rightSide[j]:  # if the current left item is less than the current right item\n",
    "            array[k] = leftSide[i]      # set the current array position to the left item\n",
    "            i += 1                      # increment the current left position\n",
    "        \n",
    "        else:                           # otherwise the right item is greater\n",
    "            array[k] = rightSide[j]     # set the current array position to the right item\n",
    "            j += 1                      # incremenet the right index\n",
    "            \n",
    "        k += 1                          # increment the array index after adding an item to it\n",
    "    \n",
    "    # now one of the sublists has been completely added to the main array\n",
    "    # the remaining values in the other sublist must be added\n",
    "\n",
    "    while i < len(leftSide):        # only runs if left has remaining values\n",
    "        array[k] = leftSide[i]      # adds the remaining items\n",
    "        i += 1\n",
    "        k += 1\n",
    "    \n",
    "    while j < len(rightSide):       # only runs if right side has remaining values\n",
    "        array[k] = rightSide[j]     # therefore only one of these while loops will run\n",
    "        j += 1                      # at the end the main array will be sorted\n",
    "        k += 1\n",
    "    \n",
    "    \n"
   ]
  },
  {
   "cell_type": "code",
   "execution_count": 31,
   "metadata": {},
   "outputs": [
    {
     "name": "stdout",
     "output_type": "stream",
     "text": [
      "[1, 1, 2, 2, 2, 4, 7, 8, 8, 8, 8]\n"
     ]
    }
   ],
   "source": [
    "myArray = [2, 7, 1, 8, 2, 8, 1, 8, 2, 8, 4]\n",
    "result = basic_merge_sort(myArray)\n",
    "print(myArray)"
   ]
  },
  {
   "cell_type": "markdown",
   "metadata": {},
   "source": [
    "### Quick Sort:\n",
    "#### Very basic version:\n",
    "This will probably not be acceptable in an exam as this ingores the idea of pointers entirely  \n",
    "This only works with languages where lists exists and is less memory efficient"
   ]
  },
  {
   "cell_type": "code",
   "execution_count": 1,
   "metadata": {},
   "outputs": [],
   "source": [
    "def very_basic_quick_sort(array: list) -> list:\n",
    "\n",
    "    if len(array) <= 1:   # if the array only contains one or zero items\n",
    "        return array      # return the array in this state\n",
    "    \n",
    "    pivot = array[0]      # let the first item be the pivot point\n",
    "\n",
    "    smallerValues = []    # create an empty list for smaller values\n",
    "    largerValues = []     # and an empty list for larger values\n",
    "\n",
    "    for i in range(1, len(array)):  # iterate through all items except the pivot\n",
    "\n",
    "        if array[i] < pivot:                 # if smaller than the pivot\n",
    "            smallerValues.append(array[i])   # add to array for smaller values\n",
    "\n",
    "        else:                                # otherwise it is larger\n",
    "            largerValues.append(array[i])    # add to array for larger values\n",
    "    \n",
    "    # the return value will recursively call itself on the smaller and larger sides\n",
    "    # these will then be returned as one large array, rather than changing the original list\n",
    "    # the sorted smaller values willm be first, then the pivot, then the sorted larger values\n",
    "    return very_basic_quick_sort(smallerValues) + [pivot] + very_basic_quick_sort(largerValues)"
   ]
  },
  {
   "cell_type": "code",
   "execution_count": 2,
   "metadata": {},
   "outputs": [
    {
     "name": "stdout",
     "output_type": "stream",
     "text": [
      "[1, 1, 1, 2, 2, 3, 3, 4, 5, 6, 7]\n"
     ]
    }
   ],
   "source": [
    "myArray = [1, 4, 1, 2, 1, 3, 5, 6, 2, 3, 7]\n",
    "result = very_basic_quick_sort(myArray)    # original list is not changed\n",
    "print(result)"
   ]
  },
  {
   "cell_type": "markdown",
   "metadata": {},
   "source": [
    "#### Main version:\n",
    "This is an example using left and right pointers similar to how the concept has been taught  \n",
    "There aree more complex implementations that are a lot harder to understand  \n",
    "But this is still realistic as to how quicksort would be implemented in reality and is memory efficient"
   ]
  },
  {
   "cell_type": "code",
   "execution_count": 77,
   "metadata": {},
   "outputs": [],
   "source": [
    "def basic_quick_sort(array: list, start: int, end:int) -> None:\n",
    "\n",
    "    if start >= end:         # if the start of the sub array is more than or the same as the end\n",
    "        return               # exit out because it is already sorted\n",
    "\n",
    "    pivot = array[start]     # pivot value is the first item in this section of array\n",
    "    left = start + 1         # left pointer is item after pivot\n",
    "    right = end              # right pointer is the last item in this section\n",
    "\n",
    "    while left < right:      # while the left pointer is less than the right pointer\n",
    "\n",
    "        # if the left value is more than the pivot and the right value is less than the pivot\n",
    "        # otherwise, left and right will continually change until this is true\n",
    "        if array[left] > pivot and array[right] < pivot:\n",
    "            temp = array[left]              # the two values must be swapped    \n",
    "            array[left] = array[right]      # using a temporary variable\n",
    "            array[right] = temp\n",
    "        \n",
    "        if array[left] <= pivot:    # if the left value is less than or equal to the pivot\n",
    "            left += 1               # increment the left pointer\n",
    "        \n",
    "        if array[right] >= pivot:   # if the right value is greater than or equal to the pivot\n",
    "            right -= 1              # increment the right pointer\n",
    "    \n",
    "    array[start] = array[right]     # set the current right value to the first value as it is lower than the pivot\n",
    "    array[right] = pivot            # then set the right position to the pivot value and it is centered\n",
    "    \n",
    "    # now the array is partitioned with the pivot at the position of the right pointer\n",
    "    # this means that all lower values are unordered on its left, and all greater are unordered on its right\n",
    "\n",
    "    basic_quick_sort(array, start, right-1)  # call quicksort on the left side of the pivot\n",
    "    basic_quick_sort(array, right+1, end)    # call quicksort on the right side of the pivot"
   ]
  },
  {
   "cell_type": "code",
   "execution_count": 78,
   "metadata": {},
   "outputs": [
    {
     "name": "stdout",
     "output_type": "stream",
     "text": [
      "[2, 3, 4, 5, 5, 6, 7, 7, 8]\n"
     ]
    }
   ],
   "source": [
    "myArray = [5, 8, 2, 7, 3, 5, 6, 4, 7]\n",
    "basic_quick_sort(myArray, 0, len(myArray)-1)  # start is initially 0 and end is the last item's index\n",
    "print(myArray)"
   ]
  }
 ],
 "metadata": {
  "kernelspec": {
   "display_name": "Python 3 (ipykernel)",
   "language": "python",
   "name": "python3"
  },
  "language_info": {
   "codemirror_mode": {
    "name": "ipython",
    "version": 3
   },
   "file_extension": ".py",
   "mimetype": "text/x-python",
   "name": "python",
   "nbconvert_exporter": "python",
   "pygments_lexer": "ipython3",
   "version": "3.10.1"
  }
 },
 "nbformat": 4,
 "nbformat_minor": 4
}
